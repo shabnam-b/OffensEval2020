{
 "cells": [
  {
   "cell_type": "markdown",
   "metadata": {},
   "source": [
    "This is the code and setup used to run the Single Task Models with GloVe Embeddings"
   ]
  },
  {
   "cell_type": "code",
   "execution_count": 1,
   "metadata": {},
   "outputs": [],
   "source": [
    "from tensorflow.keras.models import Sequential\n",
    "from tensorflow.keras.layers import Dense, Dropout, LSTM, Bidirectional \n",
    "import numpy as np\n",
    "import pandas as pd\n",
    "from sklearn.metrics import classification_report\n",
    "from utils.utils import glove_embeddings_whole_training"
   ]
  },
  {
   "cell_type": "code",
   "execution_count": 2,
   "metadata": {},
   "outputs": [],
   "source": [
    "# Read in the data\n",
    "olid_training = pd.read_csv('~/Desktop/ANLY590_Final/dataset/olid-training-processed.tsv', sep = '\\t')\n",
    "olid_test_A = pd.read_csv('~/Desktop/ANLY590_Final/dataset/testset-levela-processed.tsv', sep = '\\t')\n",
    "olid_test_B = pd.read_csv('~/Desktop/ANLY590_Final/dataset/testset-levelb-processed.tsv', sep = '\\t')\n",
    "olid_labels_A = pd.read_csv('~/Desktop/ANLY590_Final/dataset/labels-levela.csv', header = None); olid_labels_A.columns = ['id', 'subtask_a']\n",
    "olid_labels_B = pd.read_csv('~/Desktop/ANLY590_Final/dataset/labels-levelb.csv', header = None); olid_labels_B.columns = ['id', 'subtask_b']"
   ]
  },
  {
   "cell_type": "code",
   "execution_count": 4,
   "metadata": {},
   "outputs": [],
   "source": [
    "tweets = olid_training['tweet']\n",
    "\n",
    "X_train = glove_embeddings_whole_training(tweets, './GLOVE/glove.6B.300d.txt')\n",
    "\n",
    "y_train_a = olid_training['subtask_a']                          # Get Labels\n",
    "y_train_a = np.where(y_train_a == \"OFF\", 1, 0)                  # Transform to Binary Labels\n",
    "\n",
    "tweets = olid_test_A['tweet']\n",
    "X_valid = glove_embeddings_whole_training(tweets, './GLOVE/glove.6B.300d.txt')\n",
    "\n",
    "y_valid_a = olid_labels_A['subtask_a']\n",
    "y_valid_a = np.where(y_valid_a == \"OFF\", 1, 0)"
   ]
  },
  {
   "cell_type": "code",
   "execution_count": 5,
   "metadata": {},
   "outputs": [
    {
     "name": "stdout",
     "output_type": "stream",
     "text": [
      "Model: \"sequential\"\n",
      "_________________________________________________________________\n",
      "Layer (type)                 Output Shape              Param #   \n",
      "=================================================================\n",
      "bidirectional (Bidirectional (None, None, 200)         320800    \n",
      "_________________________________________________________________\n",
      "dropout (Dropout)            (None, None, 200)         0         \n",
      "_________________________________________________________________\n",
      "bidirectional_1 (Bidirection (None, 200)               240800    \n",
      "_________________________________________________________________\n",
      "dropout_1 (Dropout)          (None, 200)               0         \n",
      "_________________________________________________________________\n",
      "dense (Dense)                (None, 32)                6432      \n",
      "_________________________________________________________________\n",
      "dropout_2 (Dropout)          (None, 32)                0         \n",
      "_________________________________________________________________\n",
      "dense_1 (Dense)              (None, 16)                528       \n",
      "_________________________________________________________________\n",
      "dropout_3 (Dropout)          (None, 16)                0         \n",
      "_________________________________________________________________\n",
      "dense_2 (Dense)              (None, 4)                 68        \n",
      "_________________________________________________________________\n",
      "dropout_4 (Dropout)          (None, 4)                 0         \n",
      "_________________________________________________________________\n",
      "dense_3 (Dense)              (None, 1)                 5         \n",
      "=================================================================\n",
      "Total params: 568,633\n",
      "Trainable params: 568,633\n",
      "Non-trainable params: 0\n",
      "_________________________________________________________________\n"
     ]
    }
   ],
   "source": [
    "# Create the models\n",
    "model_task_A = Sequential()\n",
    "model_task_A.add(Bidirectional(LSTM(100, return_sequences = True), input_shape = (None, 300)))\n",
    "model_task_A.add(Dropout(.2))\n",
    "model_task_A.add(Bidirectional(LSTM(100)))\n",
    "model_task_A.add(Dropout(.2))\n",
    "model_task_A.add(Dense(32, activation = 'relu'))\n",
    "model_task_A.add(Dropout(.2))\n",
    "model_task_A.add(Dense(16, activation = 'relu'))\n",
    "model_task_A.add(Dropout(.2))\n",
    "model_task_A.add(Dense(4, activation = 'relu'))\n",
    "model_task_A.add(Dropout(.2))\n",
    "model_task_A.add(Dense(1, activation = 'sigmoid'))\n",
    "\n",
    "model_task_A.compile(loss = 'binary_crossentropy', optimizer = \"adam\", metrics = ['accuracy'])\n",
    "model_task_A.summary()"
   ]
  },
  {
   "cell_type": "code",
   "execution_count": 7,
   "metadata": {},
   "outputs": [
    {
     "name": "stdout",
     "output_type": "stream",
     "text": [
      "Train on 13240 samples, validate on 860 samples\n",
      "13240/13240 [==============================] - 30s 2ms/sample - loss: 0.6275 - accuracy: 0.6766 - val_loss: 0.6361 - val_accuracy: 0.6826\n"
     ]
    },
    {
     "data": {
      "text/plain": [
       "<tensorflow.python.keras.callbacks.History at 0x7f50147e7c50>"
      ]
     },
     "execution_count": 7,
     "metadata": {},
     "output_type": "execute_result"
    }
   ],
   "source": [
    "model_task_A.fit(X_train, y_train_a, \n",
    "                 epochs = 1, \n",
    "                 batch_size = 32, \n",
    "                 validation_data = [X_valid, y_valid_a])"
   ]
  },
  {
   "cell_type": "code",
   "execution_count": 8,
   "metadata": {},
   "outputs": [
    {
     "name": "stdout",
     "output_type": "stream",
     "text": [
      "              precision    recall  f1-score   support\n",
      "\n",
      "           0       0.69      0.84      0.76       503\n",
      "           1       0.68      0.45      0.54       357\n",
      "\n",
      "    accuracy                           0.68       860\n",
      "   macro avg       0.68      0.65      0.65       860\n",
      "weighted avg       0.68      0.68      0.67       860\n",
      "\n",
      "Task A finished.\n"
     ]
    }
   ],
   "source": [
    "y_pred_a = model_task_A.predict_classes(X_valid)\n",
    "print(classification_report(y_pred_a, y_valid_a))\n",
    "print('Task A finished.')"
   ]
  },
  {
   "cell_type": "markdown",
   "metadata": {},
   "source": [
    "## Note:\n",
    "These numbers aren't exactly the same as the ones from the poster / paper as this is being reformatted / rerun after the poster was submitted."
   ]
  },
  {
   "cell_type": "code",
   "execution_count": 9,
   "metadata": {},
   "outputs": [],
   "source": [
    "# Get the data ready\n",
    "filter = (olid_training['subtask_b'] == \"UNT\") | (olid_training['subtask_b'] == \"TIN\")\n",
    "task_B_data = olid_training[filter]\n",
    "\n",
    "tweets = task_B_data['tweet']\n",
    "X_train = glove_embeddings_whole_training(tweets, './GLOVE/glove.6B.300d.txt')\n",
    "\n",
    "y_train_b = task_B_data['subtask_b']                            # Get Labels\n",
    "y_train_b = np.where(y_train_b == \"UNT\", 1, 0)                  # Transform to Binary Labels\n",
    "\n",
    "tweets = olid_test_B['tweet']\n",
    "X_valid = glove_embeddings_whole_training(tweets, './GLOVE/glove.6B.300d.txt')\n",
    "\n",
    "y_valid_b = olid_labels_B['subtask_b']\n",
    "y_valid_b = np.where(y_valid_b == \"UNT\", 1, 0)"
   ]
  },
  {
   "cell_type": "code",
   "execution_count": 10,
   "metadata": {},
   "outputs": [
    {
     "name": "stdout",
     "output_type": "stream",
     "text": [
      "Model: \"sequential_1\"\n",
      "_________________________________________________________________\n",
      "Layer (type)                 Output Shape              Param #   \n",
      "=================================================================\n",
      "bidirectional_2 (Bidirection (None, None, 200)         320800    \n",
      "_________________________________________________________________\n",
      "dropout_5 (Dropout)          (None, None, 200)         0         \n",
      "_________________________________________________________________\n",
      "bidirectional_3 (Bidirection (None, 200)               240800    \n",
      "_________________________________________________________________\n",
      "dropout_6 (Dropout)          (None, 200)               0         \n",
      "_________________________________________________________________\n",
      "dense_4 (Dense)              (None, 32)                6432      \n",
      "_________________________________________________________________\n",
      "dropout_7 (Dropout)          (None, 32)                0         \n",
      "_________________________________________________________________\n",
      "dense_5 (Dense)              (None, 16)                528       \n",
      "_________________________________________________________________\n",
      "dropout_8 (Dropout)          (None, 16)                0         \n",
      "_________________________________________________________________\n",
      "dense_6 (Dense)              (None, 4)                 68        \n",
      "_________________________________________________________________\n",
      "dropout_9 (Dropout)          (None, 4)                 0         \n",
      "_________________________________________________________________\n",
      "dense_7 (Dense)              (None, 1)                 5         \n",
      "=================================================================\n",
      "Total params: 568,633\n",
      "Trainable params: 568,633\n",
      "Non-trainable params: 0\n",
      "_________________________________________________________________\n"
     ]
    }
   ],
   "source": [
    "# Create the Model\n",
    "model_task_B = Sequential()\n",
    "model_task_B.add(Bidirectional(LSTM(100, return_sequences = True), input_shape = (None, 300)))\n",
    "model_task_B.add(Dropout(.2))\n",
    "model_task_B.add(Bidirectional(LSTM(100)))\n",
    "model_task_B.add(Dropout(.2))\n",
    "model_task_B.add(Dense(32, activation = 'relu'))\n",
    "model_task_B.add(Dropout(.2))\n",
    "model_task_B.add(Dense(16, activation = 'relu'))\n",
    "model_task_B.add(Dropout(.2))\n",
    "model_task_B.add(Dense(4, activation = 'relu'))\n",
    "model_task_B.add(Dropout(.2))\n",
    "model_task_B.add(Dense(1, activation = 'sigmoid'))\n",
    "\n",
    "model_task_B.compile(loss = 'binary_crossentropy', optimizer = \"adam\", metrics = ['accuracy'])\n",
    "model_task_B.summary()"
   ]
  },
  {
   "cell_type": "code",
   "execution_count": 11,
   "metadata": {},
   "outputs": [
    {
     "name": "stdout",
     "output_type": "stream",
     "text": [
      "Train on 4400 samples, validate on 240 samples\n",
      "Epoch 1/5\n",
      "4400/4400 [==============================] - 13s 3ms/sample - loss: 0.4467 - accuracy: 0.8573 - val_loss: 0.3344 - val_accuracy: 0.8875\n",
      "Epoch 2/5\n",
      "4400/4400 [==============================] - 6s 1ms/sample - loss: 0.3922 - accuracy: 0.8800 - val_loss: 0.3289 - val_accuracy: 0.8875\n",
      "Epoch 3/5\n",
      "4400/4400 [==============================] - 6s 1ms/sample - loss: 0.3778 - accuracy: 0.8809 - val_loss: 0.3202 - val_accuracy: 0.8875\n",
      "Epoch 4/5\n",
      "4400/4400 [==============================] - 6s 1ms/sample - loss: 0.3526 - accuracy: 0.8807 - val_loss: 0.3507 - val_accuracy: 0.8875\n",
      "Epoch 5/5\n",
      "4400/4400 [==============================] - 7s 1ms/sample - loss: 0.3367 - accuracy: 0.8932 - val_loss: 0.3688 - val_accuracy: 0.8625\n"
     ]
    },
    {
     "data": {
      "text/plain": [
       "<tensorflow.python.keras.callbacks.History at 0x7f516fea9250>"
      ]
     },
     "execution_count": 11,
     "metadata": {},
     "output_type": "execute_result"
    }
   ],
   "source": [
    "model_task_B.fit(X_train, y_train_b, \n",
    "                 epochs = 5, \n",
    "                 batch_size = 32, \n",
    "                 validation_data = [X_valid, y_valid_b])"
   ]
  },
  {
   "cell_type": "code",
   "execution_count": 12,
   "metadata": {},
   "outputs": [
    {
     "name": "stdout",
     "output_type": "stream",
     "text": [
      "              precision    recall  f1-score   support\n",
      "\n",
      "           0       0.96      0.89      0.93       230\n",
      "           1       0.07      0.20      0.11        10\n",
      "\n",
      "    accuracy                           0.86       240\n",
      "   macro avg       0.52      0.55      0.52       240\n",
      "weighted avg       0.93      0.86      0.89       240\n",
      "\n",
      "Task B finished.\n"
     ]
    }
   ],
   "source": [
    "y_pred_b = model_task_B.predict_classes(X_valid)\n",
    "print(classification_report(y_pred_b, y_valid_b))\n",
    "print('Task B finished.')"
   ]
  }
 ],
 "metadata": {
  "kernelspec": {
   "display_name": "Python 3",
   "language": "python",
   "name": "python3"
  },
  "language_info": {
   "codemirror_mode": {
    "name": "ipython",
    "version": 3
   },
   "file_extension": ".py",
   "mimetype": "text/x-python",
   "name": "python",
   "nbconvert_exporter": "python",
   "pygments_lexer": "ipython3",
   "version": "3.7.5"
  }
 },
 "nbformat": 4,
 "nbformat_minor": 2
}
